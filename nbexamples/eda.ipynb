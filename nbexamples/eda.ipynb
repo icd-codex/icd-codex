{
 "cells": [
  {
   "cell_type": "code",
   "execution_count": 101,
   "metadata": {},
   "outputs": [],
   "source": [
    "import pandas as pd\n",
    "import numpy as np\n",
    "from sklearn import preprocessing\n",
    "import xgboost as xgb\n",
    "from sklearn.preprocessing import MultiLabelBinarizer, OneHotEncoder\n",
    "from sklearn.model_selection import train_test_split\n",
    "from sklearn.multiclass import OneVsRestClassifier\n",
    "import sklearn.metrics as M"
   ]
  },
  {
   "cell_type": "code",
   "execution_count": 89,
   "metadata": {},
   "outputs": [],
   "source": [
    "df = pd.read_json(\"data.json.gz\").rename(columns={\n",
    "    \"los\": \"length_of_stay\",\n",
    "    \"dob\": \"date_of_birth\",\n",
    "    \"dod\": \"date_of_death\",\n",
    "    \"admittime\": \"date_of_admission\"\n",
    "})\n",
    "df[\"date_of_birth\"] = pd.to_datetime(df[\"date_of_birth\"]).dt.date\n",
    "df[\"date_of_death\"] = pd.to_datetime(df[\"date_of_death\"]).dt.date\n",
    "df[\"date_of_admission\"] = pd.to_datetime(df[\"date_of_admission\"]).dt.date\n",
    "df[\"age\"] = df.apply(lambda e: (e['date_of_admission'] - e['date_of_birth']).days/365, axis=1)\n",
    "df = df[df.seq_num == 1]\n",
    "le = preprocessing.LabelEncoder()\n",
    "le.fit(df.gender)\n",
    "df.gender = le.transform(df.gender)"
   ]
  },
  {
   "cell_type": "code",
   "execution_count": 92,
   "metadata": {},
   "outputs": [
    {
     "data": {
      "text/html": [
       "<div>\n",
       "<style scoped>\n",
       "    .dataframe tbody tr th:only-of-type {\n",
       "        vertical-align: middle;\n",
       "    }\n",
       "\n",
       "    .dataframe tbody tr th {\n",
       "        vertical-align: top;\n",
       "    }\n",
       "\n",
       "    .dataframe thead th {\n",
       "        text-align: right;\n",
       "    }\n",
       "</style>\n",
       "<table border=\"1\" class=\"dataframe\">\n",
       "  <thead>\n",
       "    <tr style=\"text-align: right;\">\n",
       "      <th></th>\n",
       "      <th>length_of_stay</th>\n",
       "      <th>gender</th>\n",
       "      <th>age</th>\n",
       "      <th>icd9_code</th>\n",
       "    </tr>\n",
       "  </thead>\n",
       "  <tbody>\n",
       "    <tr>\n",
       "      <th>0</th>\n",
       "      <td>0.0044</td>\n",
       "      <td>1</td>\n",
       "      <td>84.098630</td>\n",
       "      <td>53240</td>\n",
       "    </tr>\n",
       "    <tr>\n",
       "      <th>1</th>\n",
       "      <td>1.7219</td>\n",
       "      <td>1</td>\n",
       "      <td>84.098630</td>\n",
       "      <td>53240</td>\n",
       "    </tr>\n",
       "    <tr>\n",
       "      <th>22</th>\n",
       "      <td>3.5894</td>\n",
       "      <td>1</td>\n",
       "      <td>80.024658</td>\n",
       "      <td>00845</td>\n",
       "    </tr>\n",
       "    <tr>\n",
       "      <th>31</th>\n",
       "      <td>1.0389</td>\n",
       "      <td>1</td>\n",
       "      <td>77.035616</td>\n",
       "      <td>4414</td>\n",
       "    </tr>\n",
       "    <tr>\n",
       "      <th>37</th>\n",
       "      <td>7.6180</td>\n",
       "      <td>1</td>\n",
       "      <td>83.928767</td>\n",
       "      <td>4413</td>\n",
       "    </tr>\n",
       "  </tbody>\n",
       "</table>\n",
       "</div>"
      ],
      "text/plain": [
       "    length_of_stay  gender        age icd9_code\n",
       "0           0.0044       1  84.098630     53240\n",
       "1           1.7219       1  84.098630     53240\n",
       "22          3.5894       1  80.024658     00845\n",
       "31          1.0389       1  77.035616      4414\n",
       "37          7.6180       1  83.928767      4413"
      ]
     },
     "execution_count": 92,
     "metadata": {},
     "output_type": "execute_result"
    }
   ],
   "source": [
    "df[[\"length_of_stay\", \"gender\", \"age\", \"icd9_code\"]].head()"
   ]
  },
  {
   "cell_type": "code",
   "execution_count": 112,
   "metadata": {},
   "outputs": [],
   "source": [
    "X = df[[\"length_of_stay\", \"gender\", \"age\"]].values\n",
    "y = df[[\"icd9_code\"]].values\n",
    "X_train, X_test, y_train, y_test = train_test_split(X, y, test_size=0.2, random_state=42)"
   ]
  },
  {
   "cell_type": "code",
   "execution_count": 115,
   "metadata": {},
   "outputs": [
    {
     "name": "stderr",
     "output_type": "stream",
     "text": [
      "/Users/jeremyfisher/Desktop/icdcodex/venv/lib/python3.7/site-packages/sklearn/metrics/_classification.py:1465: UndefinedMetricWarning: F-score is ill-defined and being set to 0.0 in labels with no true nor predicted samples. Use `zero_division` parameter to control this behavior.\n",
      "  average, \"true nor predicted\", 'F-score is', len(true_sum)\n"
     ]
    },
    {
     "data": {
      "text/plain": [
       "'f1 score = 0.13'"
      ]
     },
     "execution_count": 115,
     "metadata": {},
     "output_type": "execute_result"
    }
   ],
   "source": [
    "ohe = OneHotEncoder(handle_unknown=\"ignore\")\n",
    "y_train_onehot = ohe.fit_transform(y_train)\n",
    "clf_onehot = OneVsRestClassifier(xgb.XGBClassifier())\n",
    "clf_onehot.fit(X_train, y_train_onehot)\n",
    "f1_one_hot_encoding = M.f1_score(ohe.transform(y_test), clf.predict(X_test), average=\"weighted\")\n",
    "f\"one hot f1 score = {f1_one_hot_encoding:.2f}\""
   ]
  },
  {
   "cell_type": "code",
   "execution_count": 121,
   "metadata": {},
   "outputs": [
    {
     "ename": "ImportError",
     "evalue": "cannot import name 'icd10hierarchy' from 'icdcodex' (/Users/jeremyfisher/Desktop/icdcodex/venv/lib/python3.7/site-packages/icdcodex-0.1.0-py3.7.egg/icdcodex/__init__.py)",
     "output_type": "error",
     "traceback": [
      "\u001b[0;31m---------------------------------------------------------------------------\u001b[0m",
      "\u001b[0;31mImportError\u001b[0m                               Traceback (most recent call last)",
      "\u001b[0;32m<ipython-input-121-61798246491a>\u001b[0m in \u001b[0;36m<module>\u001b[0;34m\u001b[0m\n\u001b[1;32m      1\u001b[0m \u001b[0;32mfrom\u001b[0m \u001b[0micdcodex\u001b[0m \u001b[0;32mimport\u001b[0m \u001b[0mIcd2Vec\u001b[0m\u001b[0;34m\u001b[0m\u001b[0;34m\u001b[0m\u001b[0m\n\u001b[0;32m----> 2\u001b[0;31m \u001b[0;32mfrom\u001b[0m \u001b[0micdcodex\u001b[0m \u001b[0;32mimport\u001b[0m \u001b[0micd10hierarchy\u001b[0m\u001b[0;34m\u001b[0m\u001b[0;34m\u001b[0m\u001b[0m\n\u001b[0m",
      "\u001b[0;31mImportError\u001b[0m: cannot import name 'icd10hierarchy' from 'icdcodex' (/Users/jeremyfisher/Desktop/icdcodex/venv/lib/python3.7/site-packages/icdcodex-0.1.0-py3.7.egg/icdcodex/__init__.py)"
     ]
    }
   ],
   "source": [
    "from icdcodex import Icd2Vec\n",
    "from icdcodex import icd10hierarchy"
   ]
  },
  {
   "cell_type": "code",
   "execution_count": 118,
   "metadata": {},
   "outputs": [
    {
     "ename": "AttributeError",
     "evalue": "module 'icdcodex' has no attribute 'Icd2Vec'",
     "output_type": "error",
     "traceback": [
      "\u001b[0;31m---------------------------------------------------------------------------\u001b[0m",
      "\u001b[0;31mAttributeError\u001b[0m                            Traceback (most recent call last)",
      "\u001b[0;32m<ipython-input-118-2575d0c401bd>\u001b[0m in \u001b[0;36m<module>\u001b[0;34m\u001b[0m\n\u001b[1;32m      1\u001b[0m \u001b[0;32mimport\u001b[0m \u001b[0micdcodex\u001b[0m \u001b[0;32mas\u001b[0m \u001b[0mcodex\u001b[0m\u001b[0;34m\u001b[0m\u001b[0;34m\u001b[0m\u001b[0m\n\u001b[0;32m----> 2\u001b[0;31m \u001b[0membedder\u001b[0m \u001b[0;34m=\u001b[0m \u001b[0mcodex\u001b[0m\u001b[0;34m.\u001b[0m\u001b[0mIcd2Vec\u001b[0m\u001b[0;34m(\u001b[0m\u001b[0mnum_embedding_dimensions\u001b[0m\u001b[0;34m=\u001b[0m\u001b[0;36m128\u001b[0m\u001b[0;34m)\u001b[0m\u001b[0;34m\u001b[0m\u001b[0;34m\u001b[0m\u001b[0m\n\u001b[0m\u001b[1;32m      3\u001b[0m \u001b[0membedder\u001b[0m\u001b[0;34m.\u001b[0m\u001b[0mfit\u001b[0m\u001b[0;34m(\u001b[0m\u001b[0mcodex\u001b[0m\u001b[0;34m.\u001b[0m\u001b[0micd10hierarchy\u001b[0m\u001b[0;34m(\u001b[0m\u001b[0;34m)\u001b[0m\u001b[0;34m)\u001b[0m\u001b[0;34m\u001b[0m\u001b[0;34m\u001b[0m\u001b[0m\n\u001b[1;32m      4\u001b[0m \u001b[0my_train_continuous\u001b[0m \u001b[0;34m=\u001b[0m \u001b[0membedder\u001b[0m\u001b[0;34m.\u001b[0m\u001b[0mtransform\u001b[0m\u001b[0;34m(\u001b[0m\u001b[0my_train\u001b[0m\u001b[0;34m)\u001b[0m\u001b[0;34m\u001b[0m\u001b[0;34m\u001b[0m\u001b[0m\n\u001b[1;32m      5\u001b[0m \u001b[0mclf\u001b[0m \u001b[0;34m=\u001b[0m \u001b[0mOneVsRestClassifier\u001b[0m\u001b[0;34m(\u001b[0m\u001b[0mxgb\u001b[0m\u001b[0;34m.\u001b[0m\u001b[0mXGBRegressor\u001b[0m\u001b[0;34m(\u001b[0m\u001b[0;34m)\u001b[0m\u001b[0;34m)\u001b[0m\u001b[0;34m\u001b[0m\u001b[0;34m\u001b[0m\u001b[0m\n",
      "\u001b[0;31mAttributeError\u001b[0m: module 'icdcodex' has no attribute 'Icd2Vec'"
     ]
    }
   ],
   "source": [
    "embedder = Icd2Vec(num_embedding_dimensions=128)\n",
    "embedder.fit(icd10hierarchy())\n",
    "y_train_continuous = embedder.transform(y_train)\n",
    "clf = OneVsRestClassifier(xgb.XGBRegressor())\n",
    "clf.fit(X_train, y_train_continuous)\n",
    "y_pred = embedder.vec2code(clf.predict(X_test))\n",
    "f1_continuous_encoding = M.f1_score(y_test, y_pred, average=\"weighted\")\n",
    "f\"conttinuous f1 score = {f1_continuous_encoding:.2f}\""
   ]
  },
  {
   "cell_type": "code",
   "execution_count": null,
   "metadata": {},
   "outputs": [],
   "source": []
  }
 ],
 "metadata": {
  "kernelspec": {
   "display_name": "Python 3",
   "language": "python",
   "name": "python3"
  },
  "language_info": {
   "codemirror_mode": {
    "name": "ipython",
    "version": 3
   },
   "file_extension": ".py",
   "mimetype": "text/x-python",
   "name": "python",
   "nbconvert_exporter": "python",
   "pygments_lexer": "ipython3",
   "version": "3.7.7"
  }
 },
 "nbformat": 4,
 "nbformat_minor": 4
}
